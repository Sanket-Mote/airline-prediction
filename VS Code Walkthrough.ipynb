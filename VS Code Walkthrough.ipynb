{
 "cells": [
  {
   "cell_type": "code",
   "execution_count": 1,
   "id": "62f0dd17",
   "metadata": {},
   "outputs": [],
   "source": [
    "from dataclasses import dataclass\n",
    "\n",
    "import numpy as np \n",
    "import pandas as pd\n",
    "from sklearn.compose import ColumnTransformer\n",
    "from sklearn.impute import SimpleImputer\n",
    "from sklearn.pipeline import Pipeline\n",
    "from sklearn.preprocessing import OneHotEncoder,StandardScaler\n",
    "import os\n",
    "from sklearn.model_selection import train_test_split"
   ]
  },
  {
   "cell_type": "code",
   "execution_count": 2,
   "id": "7b482395",
   "metadata": {},
   "outputs": [],
   "source": [
    "@dataclass\n",
    "class DataTransformationConfig:\n",
    "    preprocessor_obj_file_path = os.path.join(\"artifacts\", \"preprocessor.pkl\")"
   ]
  },
  {
   "cell_type": "code",
   "execution_count": 3,
   "id": "2e2943fd",
   "metadata": {},
   "outputs": [],
   "source": [
    "TARGET_COLUMN_NAME = \"price\""
   ]
  },
  {
   "cell_type": "code",
   "execution_count": 4,
   "id": "ce2bbf30",
   "metadata": {},
   "outputs": [],
   "source": [
    "data_transformation_config = DataTransformationConfig()"
   ]
  },
  {
   "cell_type": "code",
   "execution_count": 5,
   "id": "8c6a3a9c",
   "metadata": {},
   "outputs": [],
   "source": [
    "df = pd.read_csv(r\"Dataset\\Clean_Dataset.csv\")"
   ]
  },
  {
   "cell_type": "code",
   "execution_count": 6,
   "id": "67e420b6",
   "metadata": {},
   "outputs": [],
   "source": [
    "df.drop(['Unnamed: 0', 'flight'], axis = 1, inplace = True)"
   ]
  },
  {
   "cell_type": "code",
   "execution_count": 7,
   "id": "e8b14af7",
   "metadata": {},
   "outputs": [],
   "source": [
    "df_ec = df[df['class'] == 'Economy'].loc[:5000,:]\n",
    "df_bs = df.loc[df['class'] == 'Business'][:5000]\n",
    "\n",
    "df = pd.concat([df_ec,df_bs], axis=0, ignore_index= True)"
   ]
  },
  {
   "cell_type": "code",
   "execution_count": 8,
   "id": "8f0604be",
   "metadata": {},
   "outputs": [],
   "source": [
    "df.drop_duplicates(keep = 'first', inplace = True, ignore_index = True)"
   ]
  },
  {
   "cell_type": "code",
   "execution_count": 9,
   "id": "d153d62c",
   "metadata": {},
   "outputs": [
    {
     "data": {
      "text/plain": [
       "class\n",
       "Business    4998\n",
       "Economy     4856\n",
       "Name: count, dtype: int64"
      ]
     },
     "execution_count": 9,
     "metadata": {},
     "output_type": "execute_result"
    }
   ],
   "source": [
    "df['class'].value_counts()"
   ]
  },
  {
   "cell_type": "code",
   "execution_count": 10,
   "id": "3bfb86ed",
   "metadata": {},
   "outputs": [
    {
     "data": {
      "text/plain": [
       "(9854, 10)"
      ]
     },
     "execution_count": 10,
     "metadata": {},
     "output_type": "execute_result"
    }
   ],
   "source": [
    "df.shape"
   ]
  },
  {
   "cell_type": "code",
   "execution_count": 11,
   "id": "d41f6ca0",
   "metadata": {},
   "outputs": [],
   "source": [
    "categorical_columns = list(df.loc[:,df.dtypes == 'object'].columns)"
   ]
  },
  {
   "cell_type": "code",
   "execution_count": 12,
   "id": "8f756e56",
   "metadata": {},
   "outputs": [
    {
     "data": {
      "text/html": [
       "<div>\n",
       "<style scoped>\n",
       "    .dataframe tbody tr th:only-of-type {\n",
       "        vertical-align: middle;\n",
       "    }\n",
       "\n",
       "    .dataframe tbody tr th {\n",
       "        vertical-align: top;\n",
       "    }\n",
       "\n",
       "    .dataframe thead th {\n",
       "        text-align: right;\n",
       "    }\n",
       "</style>\n",
       "<table border=\"1\" class=\"dataframe\">\n",
       "  <thead>\n",
       "    <tr style=\"text-align: right;\">\n",
       "      <th></th>\n",
       "      <th>airline</th>\n",
       "      <th>source_city</th>\n",
       "      <th>departure_time</th>\n",
       "      <th>stops</th>\n",
       "      <th>arrival_time</th>\n",
       "      <th>destination_city</th>\n",
       "      <th>class</th>\n",
       "    </tr>\n",
       "  </thead>\n",
       "  <tbody>\n",
       "    <tr>\n",
       "      <th>0</th>\n",
       "      <td>SpiceJet</td>\n",
       "      <td>Delhi</td>\n",
       "      <td>Evening</td>\n",
       "      <td>zero</td>\n",
       "      <td>Night</td>\n",
       "      <td>Mumbai</td>\n",
       "      <td>Economy</td>\n",
       "    </tr>\n",
       "    <tr>\n",
       "      <th>1</th>\n",
       "      <td>SpiceJet</td>\n",
       "      <td>Delhi</td>\n",
       "      <td>Early_Morning</td>\n",
       "      <td>zero</td>\n",
       "      <td>Morning</td>\n",
       "      <td>Mumbai</td>\n",
       "      <td>Economy</td>\n",
       "    </tr>\n",
       "  </tbody>\n",
       "</table>\n",
       "</div>"
      ],
      "text/plain": [
       "    airline source_city departure_time stops arrival_time destination_city   \n",
       "0  SpiceJet       Delhi        Evening  zero        Night           Mumbai  \\\n",
       "1  SpiceJet       Delhi  Early_Morning  zero      Morning           Mumbai   \n",
       "\n",
       "     class  \n",
       "0  Economy  \n",
       "1  Economy  "
      ]
     },
     "execution_count": 12,
     "metadata": {},
     "output_type": "execute_result"
    }
   ],
   "source": [
    "df[categorical_columns].head(2)"
   ]
  },
  {
   "cell_type": "code",
   "execution_count": 13,
   "id": "88aa9af1",
   "metadata": {},
   "outputs": [],
   "source": [
    "numerical_columns = list(df.loc[:,df.dtypes != 'object'].columns)"
   ]
  },
  {
   "cell_type": "code",
   "execution_count": 14,
   "id": "8c898c77",
   "metadata": {},
   "outputs": [],
   "source": [
    "numerical_columns.remove('price')"
   ]
  },
  {
   "cell_type": "code",
   "execution_count": 15,
   "id": "e6f67479",
   "metadata": {},
   "outputs": [
    {
     "data": {
      "text/plain": [
       "['duration', 'days_left']"
      ]
     },
     "execution_count": 15,
     "metadata": {},
     "output_type": "execute_result"
    }
   ],
   "source": [
    "numerical_columns"
   ]
  },
  {
   "cell_type": "code",
   "execution_count": 17,
   "id": "479e9221",
   "metadata": {},
   "outputs": [],
   "source": [
    "num_pipeline = Pipeline(\n",
    "                steps = [\n",
    "                (\"imputer\" , SimpleImputer(strategy = \"median\")),\n",
    "                (\"scaler\" , StandardScaler())\n",
    "                ]\n",
    "            )"
   ]
  },
  {
   "cell_type": "code",
   "execution_count": null,
   "id": "a25b719e",
   "metadata": {},
   "outputs": [],
   "source": []
  },
  {
   "cell_type": "code",
   "execution_count": 18,
   "id": "cfb70f0a",
   "metadata": {},
   "outputs": [
    {
     "data": {
      "text/plain": [
       "sklearn.pipeline.Pipeline"
      ]
     },
     "execution_count": 18,
     "metadata": {},
     "output_type": "execute_result"
    }
   ],
   "source": [
    "type(num_pipeline)"
   ]
  },
  {
   "cell_type": "code",
   "execution_count": 19,
   "id": "e35de29c",
   "metadata": {},
   "outputs": [
    {
     "data": {
      "text/html": [
       "<style>#sk-container-id-1 {color: black;background-color: white;}#sk-container-id-1 pre{padding: 0;}#sk-container-id-1 div.sk-toggleable {background-color: white;}#sk-container-id-1 label.sk-toggleable__label {cursor: pointer;display: block;width: 100%;margin-bottom: 0;padding: 0.3em;box-sizing: border-box;text-align: center;}#sk-container-id-1 label.sk-toggleable__label-arrow:before {content: \"▸\";float: left;margin-right: 0.25em;color: #696969;}#sk-container-id-1 label.sk-toggleable__label-arrow:hover:before {color: black;}#sk-container-id-1 div.sk-estimator:hover label.sk-toggleable__label-arrow:before {color: black;}#sk-container-id-1 div.sk-toggleable__content {max-height: 0;max-width: 0;overflow: hidden;text-align: left;background-color: #f0f8ff;}#sk-container-id-1 div.sk-toggleable__content pre {margin: 0.2em;color: black;border-radius: 0.25em;background-color: #f0f8ff;}#sk-container-id-1 input.sk-toggleable__control:checked~div.sk-toggleable__content {max-height: 200px;max-width: 100%;overflow: auto;}#sk-container-id-1 input.sk-toggleable__control:checked~label.sk-toggleable__label-arrow:before {content: \"▾\";}#sk-container-id-1 div.sk-estimator input.sk-toggleable__control:checked~label.sk-toggleable__label {background-color: #d4ebff;}#sk-container-id-1 div.sk-label input.sk-toggleable__control:checked~label.sk-toggleable__label {background-color: #d4ebff;}#sk-container-id-1 input.sk-hidden--visually {border: 0;clip: rect(1px 1px 1px 1px);clip: rect(1px, 1px, 1px, 1px);height: 1px;margin: -1px;overflow: hidden;padding: 0;position: absolute;width: 1px;}#sk-container-id-1 div.sk-estimator {font-family: monospace;background-color: #f0f8ff;border: 1px dotted black;border-radius: 0.25em;box-sizing: border-box;margin-bottom: 0.5em;}#sk-container-id-1 div.sk-estimator:hover {background-color: #d4ebff;}#sk-container-id-1 div.sk-parallel-item::after {content: \"\";width: 100%;border-bottom: 1px solid gray;flex-grow: 1;}#sk-container-id-1 div.sk-label:hover label.sk-toggleable__label {background-color: #d4ebff;}#sk-container-id-1 div.sk-serial::before {content: \"\";position: absolute;border-left: 1px solid gray;box-sizing: border-box;top: 0;bottom: 0;left: 50%;z-index: 0;}#sk-container-id-1 div.sk-serial {display: flex;flex-direction: column;align-items: center;background-color: white;padding-right: 0.2em;padding-left: 0.2em;position: relative;}#sk-container-id-1 div.sk-item {position: relative;z-index: 1;}#sk-container-id-1 div.sk-parallel {display: flex;align-items: stretch;justify-content: center;background-color: white;position: relative;}#sk-container-id-1 div.sk-item::before, #sk-container-id-1 div.sk-parallel-item::before {content: \"\";position: absolute;border-left: 1px solid gray;box-sizing: border-box;top: 0;bottom: 0;left: 50%;z-index: -1;}#sk-container-id-1 div.sk-parallel-item {display: flex;flex-direction: column;z-index: 1;position: relative;background-color: white;}#sk-container-id-1 div.sk-parallel-item:first-child::after {align-self: flex-end;width: 50%;}#sk-container-id-1 div.sk-parallel-item:last-child::after {align-self: flex-start;width: 50%;}#sk-container-id-1 div.sk-parallel-item:only-child::after {width: 0;}#sk-container-id-1 div.sk-dashed-wrapped {border: 1px dashed gray;margin: 0 0.4em 0.5em 0.4em;box-sizing: border-box;padding-bottom: 0.4em;background-color: white;}#sk-container-id-1 div.sk-label label {font-family: monospace;font-weight: bold;display: inline-block;line-height: 1.2em;}#sk-container-id-1 div.sk-label-container {text-align: center;}#sk-container-id-1 div.sk-container {/* jupyter's `normalize.less` sets `[hidden] { display: none; }` but bootstrap.min.css set `[hidden] { display: none !important; }` so we also need the `!important` here to be able to override the default hidden behavior on the sphinx rendered scikit-learn.org. See: https://github.com/scikit-learn/scikit-learn/issues/21755 */display: inline-block !important;position: relative;}#sk-container-id-1 div.sk-text-repr-fallback {display: none;}</style><div id=\"sk-container-id-1\" class=\"sk-top-container\"><div class=\"sk-text-repr-fallback\"><pre>Pipeline(steps=[(&#x27;imputer&#x27;, SimpleImputer(strategy=&#x27;median&#x27;)),\n",
       "                (&#x27;scaler&#x27;, StandardScaler())])</pre><b>In a Jupyter environment, please rerun this cell to show the HTML representation or trust the notebook. <br />On GitHub, the HTML representation is unable to render, please try loading this page with nbviewer.org.</b></div><div class=\"sk-container\" hidden><div class=\"sk-item sk-dashed-wrapped\"><div class=\"sk-label-container\"><div class=\"sk-label sk-toggleable\"><input class=\"sk-toggleable__control sk-hidden--visually\" id=\"sk-estimator-id-1\" type=\"checkbox\" ><label for=\"sk-estimator-id-1\" class=\"sk-toggleable__label sk-toggleable__label-arrow\">Pipeline</label><div class=\"sk-toggleable__content\"><pre>Pipeline(steps=[(&#x27;imputer&#x27;, SimpleImputer(strategy=&#x27;median&#x27;)),\n",
       "                (&#x27;scaler&#x27;, StandardScaler())])</pre></div></div></div><div class=\"sk-serial\"><div class=\"sk-item\"><div class=\"sk-estimator sk-toggleable\"><input class=\"sk-toggleable__control sk-hidden--visually\" id=\"sk-estimator-id-2\" type=\"checkbox\" ><label for=\"sk-estimator-id-2\" class=\"sk-toggleable__label sk-toggleable__label-arrow\">SimpleImputer</label><div class=\"sk-toggleable__content\"><pre>SimpleImputer(strategy=&#x27;median&#x27;)</pre></div></div></div><div class=\"sk-item\"><div class=\"sk-estimator sk-toggleable\"><input class=\"sk-toggleable__control sk-hidden--visually\" id=\"sk-estimator-id-3\" type=\"checkbox\" ><label for=\"sk-estimator-id-3\" class=\"sk-toggleable__label sk-toggleable__label-arrow\">StandardScaler</label><div class=\"sk-toggleable__content\"><pre>StandardScaler()</pre></div></div></div></div></div></div></div>"
      ],
      "text/plain": [
       "Pipeline(steps=[('imputer', SimpleImputer(strategy='median')),\n",
       "                ('scaler', StandardScaler())])"
      ]
     },
     "execution_count": 19,
     "metadata": {},
     "output_type": "execute_result"
    }
   ],
   "source": [
    "num_pipeline"
   ]
  },
  {
   "cell_type": "code",
   "execution_count": 20,
   "id": "c972f8bf",
   "metadata": {},
   "outputs": [],
   "source": [
    "cat_pipeline = Pipeline(\n",
    "                steps= [\n",
    "                (\"imputer\" , SimpleImputer(strategy= \"most_frequent\")),\n",
    "                (\"one_hot_encoder\" , OneHotEncoder()),\n",
    "                (\"scaler\", StandardScaler(with_mean=False))\n",
    "                ] \n",
    "            )"
   ]
  },
  {
   "cell_type": "code",
   "execution_count": 21,
   "id": "bb865f77",
   "metadata": {},
   "outputs": [
    {
     "data": {
      "text/html": [
       "<style>#sk-container-id-2 {color: black;background-color: white;}#sk-container-id-2 pre{padding: 0;}#sk-container-id-2 div.sk-toggleable {background-color: white;}#sk-container-id-2 label.sk-toggleable__label {cursor: pointer;display: block;width: 100%;margin-bottom: 0;padding: 0.3em;box-sizing: border-box;text-align: center;}#sk-container-id-2 label.sk-toggleable__label-arrow:before {content: \"▸\";float: left;margin-right: 0.25em;color: #696969;}#sk-container-id-2 label.sk-toggleable__label-arrow:hover:before {color: black;}#sk-container-id-2 div.sk-estimator:hover label.sk-toggleable__label-arrow:before {color: black;}#sk-container-id-2 div.sk-toggleable__content {max-height: 0;max-width: 0;overflow: hidden;text-align: left;background-color: #f0f8ff;}#sk-container-id-2 div.sk-toggleable__content pre {margin: 0.2em;color: black;border-radius: 0.25em;background-color: #f0f8ff;}#sk-container-id-2 input.sk-toggleable__control:checked~div.sk-toggleable__content {max-height: 200px;max-width: 100%;overflow: auto;}#sk-container-id-2 input.sk-toggleable__control:checked~label.sk-toggleable__label-arrow:before {content: \"▾\";}#sk-container-id-2 div.sk-estimator input.sk-toggleable__control:checked~label.sk-toggleable__label {background-color: #d4ebff;}#sk-container-id-2 div.sk-label input.sk-toggleable__control:checked~label.sk-toggleable__label {background-color: #d4ebff;}#sk-container-id-2 input.sk-hidden--visually {border: 0;clip: rect(1px 1px 1px 1px);clip: rect(1px, 1px, 1px, 1px);height: 1px;margin: -1px;overflow: hidden;padding: 0;position: absolute;width: 1px;}#sk-container-id-2 div.sk-estimator {font-family: monospace;background-color: #f0f8ff;border: 1px dotted black;border-radius: 0.25em;box-sizing: border-box;margin-bottom: 0.5em;}#sk-container-id-2 div.sk-estimator:hover {background-color: #d4ebff;}#sk-container-id-2 div.sk-parallel-item::after {content: \"\";width: 100%;border-bottom: 1px solid gray;flex-grow: 1;}#sk-container-id-2 div.sk-label:hover label.sk-toggleable__label {background-color: #d4ebff;}#sk-container-id-2 div.sk-serial::before {content: \"\";position: absolute;border-left: 1px solid gray;box-sizing: border-box;top: 0;bottom: 0;left: 50%;z-index: 0;}#sk-container-id-2 div.sk-serial {display: flex;flex-direction: column;align-items: center;background-color: white;padding-right: 0.2em;padding-left: 0.2em;position: relative;}#sk-container-id-2 div.sk-item {position: relative;z-index: 1;}#sk-container-id-2 div.sk-parallel {display: flex;align-items: stretch;justify-content: center;background-color: white;position: relative;}#sk-container-id-2 div.sk-item::before, #sk-container-id-2 div.sk-parallel-item::before {content: \"\";position: absolute;border-left: 1px solid gray;box-sizing: border-box;top: 0;bottom: 0;left: 50%;z-index: -1;}#sk-container-id-2 div.sk-parallel-item {display: flex;flex-direction: column;z-index: 1;position: relative;background-color: white;}#sk-container-id-2 div.sk-parallel-item:first-child::after {align-self: flex-end;width: 50%;}#sk-container-id-2 div.sk-parallel-item:last-child::after {align-self: flex-start;width: 50%;}#sk-container-id-2 div.sk-parallel-item:only-child::after {width: 0;}#sk-container-id-2 div.sk-dashed-wrapped {border: 1px dashed gray;margin: 0 0.4em 0.5em 0.4em;box-sizing: border-box;padding-bottom: 0.4em;background-color: white;}#sk-container-id-2 div.sk-label label {font-family: monospace;font-weight: bold;display: inline-block;line-height: 1.2em;}#sk-container-id-2 div.sk-label-container {text-align: center;}#sk-container-id-2 div.sk-container {/* jupyter's `normalize.less` sets `[hidden] { display: none; }` but bootstrap.min.css set `[hidden] { display: none !important; }` so we also need the `!important` here to be able to override the default hidden behavior on the sphinx rendered scikit-learn.org. See: https://github.com/scikit-learn/scikit-learn/issues/21755 */display: inline-block !important;position: relative;}#sk-container-id-2 div.sk-text-repr-fallback {display: none;}</style><div id=\"sk-container-id-2\" class=\"sk-top-container\"><div class=\"sk-text-repr-fallback\"><pre>Pipeline(steps=[(&#x27;imputer&#x27;, SimpleImputer(strategy=&#x27;most_frequent&#x27;)),\n",
       "                (&#x27;one_hot_encoder&#x27;, OneHotEncoder()),\n",
       "                (&#x27;scaler&#x27;, StandardScaler(with_mean=False))])</pre><b>In a Jupyter environment, please rerun this cell to show the HTML representation or trust the notebook. <br />On GitHub, the HTML representation is unable to render, please try loading this page with nbviewer.org.</b></div><div class=\"sk-container\" hidden><div class=\"sk-item sk-dashed-wrapped\"><div class=\"sk-label-container\"><div class=\"sk-label sk-toggleable\"><input class=\"sk-toggleable__control sk-hidden--visually\" id=\"sk-estimator-id-4\" type=\"checkbox\" ><label for=\"sk-estimator-id-4\" class=\"sk-toggleable__label sk-toggleable__label-arrow\">Pipeline</label><div class=\"sk-toggleable__content\"><pre>Pipeline(steps=[(&#x27;imputer&#x27;, SimpleImputer(strategy=&#x27;most_frequent&#x27;)),\n",
       "                (&#x27;one_hot_encoder&#x27;, OneHotEncoder()),\n",
       "                (&#x27;scaler&#x27;, StandardScaler(with_mean=False))])</pre></div></div></div><div class=\"sk-serial\"><div class=\"sk-item\"><div class=\"sk-estimator sk-toggleable\"><input class=\"sk-toggleable__control sk-hidden--visually\" id=\"sk-estimator-id-5\" type=\"checkbox\" ><label for=\"sk-estimator-id-5\" class=\"sk-toggleable__label sk-toggleable__label-arrow\">SimpleImputer</label><div class=\"sk-toggleable__content\"><pre>SimpleImputer(strategy=&#x27;most_frequent&#x27;)</pre></div></div></div><div class=\"sk-item\"><div class=\"sk-estimator sk-toggleable\"><input class=\"sk-toggleable__control sk-hidden--visually\" id=\"sk-estimator-id-6\" type=\"checkbox\" ><label for=\"sk-estimator-id-6\" class=\"sk-toggleable__label sk-toggleable__label-arrow\">OneHotEncoder</label><div class=\"sk-toggleable__content\"><pre>OneHotEncoder()</pre></div></div></div><div class=\"sk-item\"><div class=\"sk-estimator sk-toggleable\"><input class=\"sk-toggleable__control sk-hidden--visually\" id=\"sk-estimator-id-7\" type=\"checkbox\" ><label for=\"sk-estimator-id-7\" class=\"sk-toggleable__label sk-toggleable__label-arrow\">StandardScaler</label><div class=\"sk-toggleable__content\"><pre>StandardScaler(with_mean=False)</pre></div></div></div></div></div></div></div>"
      ],
      "text/plain": [
       "Pipeline(steps=[('imputer', SimpleImputer(strategy='most_frequent')),\n",
       "                ('one_hot_encoder', OneHotEncoder()),\n",
       "                ('scaler', StandardScaler(with_mean=False))])"
      ]
     },
     "execution_count": 21,
     "metadata": {},
     "output_type": "execute_result"
    }
   ],
   "source": [
    "cat_pipeline"
   ]
  },
  {
   "cell_type": "code",
   "execution_count": 22,
   "id": "5a74a7ef",
   "metadata": {},
   "outputs": [],
   "source": [
    "preprocessor = ColumnTransformer(\n",
    "                [\n",
    "                (\"num_pipeline\", num_pipeline, numerical_columns),\n",
    "                (\"cat_pipeline\", cat_pipeline, categorical_columns)\n",
    "                ],\n",
    "                sparse_threshold = 0\n",
    "            )"
   ]
  },
  {
   "cell_type": "code",
   "execution_count": null,
   "id": "97bcc879",
   "metadata": {},
   "outputs": [],
   "source": [
    "type(preprocessor)"
   ]
  },
  {
   "cell_type": "code",
   "execution_count": 23,
   "id": "e3338a2c",
   "metadata": {},
   "outputs": [
    {
     "data": {
      "text/html": [
       "<style>#sk-container-id-3 {color: black;background-color: white;}#sk-container-id-3 pre{padding: 0;}#sk-container-id-3 div.sk-toggleable {background-color: white;}#sk-container-id-3 label.sk-toggleable__label {cursor: pointer;display: block;width: 100%;margin-bottom: 0;padding: 0.3em;box-sizing: border-box;text-align: center;}#sk-container-id-3 label.sk-toggleable__label-arrow:before {content: \"▸\";float: left;margin-right: 0.25em;color: #696969;}#sk-container-id-3 label.sk-toggleable__label-arrow:hover:before {color: black;}#sk-container-id-3 div.sk-estimator:hover label.sk-toggleable__label-arrow:before {color: black;}#sk-container-id-3 div.sk-toggleable__content {max-height: 0;max-width: 0;overflow: hidden;text-align: left;background-color: #f0f8ff;}#sk-container-id-3 div.sk-toggleable__content pre {margin: 0.2em;color: black;border-radius: 0.25em;background-color: #f0f8ff;}#sk-container-id-3 input.sk-toggleable__control:checked~div.sk-toggleable__content {max-height: 200px;max-width: 100%;overflow: auto;}#sk-container-id-3 input.sk-toggleable__control:checked~label.sk-toggleable__label-arrow:before {content: \"▾\";}#sk-container-id-3 div.sk-estimator input.sk-toggleable__control:checked~label.sk-toggleable__label {background-color: #d4ebff;}#sk-container-id-3 div.sk-label input.sk-toggleable__control:checked~label.sk-toggleable__label {background-color: #d4ebff;}#sk-container-id-3 input.sk-hidden--visually {border: 0;clip: rect(1px 1px 1px 1px);clip: rect(1px, 1px, 1px, 1px);height: 1px;margin: -1px;overflow: hidden;padding: 0;position: absolute;width: 1px;}#sk-container-id-3 div.sk-estimator {font-family: monospace;background-color: #f0f8ff;border: 1px dotted black;border-radius: 0.25em;box-sizing: border-box;margin-bottom: 0.5em;}#sk-container-id-3 div.sk-estimator:hover {background-color: #d4ebff;}#sk-container-id-3 div.sk-parallel-item::after {content: \"\";width: 100%;border-bottom: 1px solid gray;flex-grow: 1;}#sk-container-id-3 div.sk-label:hover label.sk-toggleable__label {background-color: #d4ebff;}#sk-container-id-3 div.sk-serial::before {content: \"\";position: absolute;border-left: 1px solid gray;box-sizing: border-box;top: 0;bottom: 0;left: 50%;z-index: 0;}#sk-container-id-3 div.sk-serial {display: flex;flex-direction: column;align-items: center;background-color: white;padding-right: 0.2em;padding-left: 0.2em;position: relative;}#sk-container-id-3 div.sk-item {position: relative;z-index: 1;}#sk-container-id-3 div.sk-parallel {display: flex;align-items: stretch;justify-content: center;background-color: white;position: relative;}#sk-container-id-3 div.sk-item::before, #sk-container-id-3 div.sk-parallel-item::before {content: \"\";position: absolute;border-left: 1px solid gray;box-sizing: border-box;top: 0;bottom: 0;left: 50%;z-index: -1;}#sk-container-id-3 div.sk-parallel-item {display: flex;flex-direction: column;z-index: 1;position: relative;background-color: white;}#sk-container-id-3 div.sk-parallel-item:first-child::after {align-self: flex-end;width: 50%;}#sk-container-id-3 div.sk-parallel-item:last-child::after {align-self: flex-start;width: 50%;}#sk-container-id-3 div.sk-parallel-item:only-child::after {width: 0;}#sk-container-id-3 div.sk-dashed-wrapped {border: 1px dashed gray;margin: 0 0.4em 0.5em 0.4em;box-sizing: border-box;padding-bottom: 0.4em;background-color: white;}#sk-container-id-3 div.sk-label label {font-family: monospace;font-weight: bold;display: inline-block;line-height: 1.2em;}#sk-container-id-3 div.sk-label-container {text-align: center;}#sk-container-id-3 div.sk-container {/* jupyter's `normalize.less` sets `[hidden] { display: none; }` but bootstrap.min.css set `[hidden] { display: none !important; }` so we also need the `!important` here to be able to override the default hidden behavior on the sphinx rendered scikit-learn.org. See: https://github.com/scikit-learn/scikit-learn/issues/21755 */display: inline-block !important;position: relative;}#sk-container-id-3 div.sk-text-repr-fallback {display: none;}</style><div id=\"sk-container-id-3\" class=\"sk-top-container\"><div class=\"sk-text-repr-fallback\"><pre>ColumnTransformer(sparse_threshold=0,\n",
       "                  transformers=[(&#x27;num_pipeline&#x27;,\n",
       "                                 Pipeline(steps=[(&#x27;imputer&#x27;,\n",
       "                                                  SimpleImputer(strategy=&#x27;median&#x27;)),\n",
       "                                                 (&#x27;scaler&#x27;, StandardScaler())]),\n",
       "                                 [&#x27;duration&#x27;, &#x27;days_left&#x27;]),\n",
       "                                (&#x27;cat_pipeline&#x27;,\n",
       "                                 Pipeline(steps=[(&#x27;imputer&#x27;,\n",
       "                                                  SimpleImputer(strategy=&#x27;most_frequent&#x27;)),\n",
       "                                                 (&#x27;one_hot_encoder&#x27;,\n",
       "                                                  OneHotEncoder()),\n",
       "                                                 (&#x27;scaler&#x27;,\n",
       "                                                  StandardScaler(with_mean=False))]),\n",
       "                                 [&#x27;airline&#x27;, &#x27;source_city&#x27;, &#x27;departure_time&#x27;,\n",
       "                                  &#x27;stops&#x27;, &#x27;arrival_time&#x27;, &#x27;destination_city&#x27;,\n",
       "                                  &#x27;class&#x27;])])</pre><b>In a Jupyter environment, please rerun this cell to show the HTML representation or trust the notebook. <br />On GitHub, the HTML representation is unable to render, please try loading this page with nbviewer.org.</b></div><div class=\"sk-container\" hidden><div class=\"sk-item sk-dashed-wrapped\"><div class=\"sk-label-container\"><div class=\"sk-label sk-toggleable\"><input class=\"sk-toggleable__control sk-hidden--visually\" id=\"sk-estimator-id-8\" type=\"checkbox\" ><label for=\"sk-estimator-id-8\" class=\"sk-toggleable__label sk-toggleable__label-arrow\">ColumnTransformer</label><div class=\"sk-toggleable__content\"><pre>ColumnTransformer(sparse_threshold=0,\n",
       "                  transformers=[(&#x27;num_pipeline&#x27;,\n",
       "                                 Pipeline(steps=[(&#x27;imputer&#x27;,\n",
       "                                                  SimpleImputer(strategy=&#x27;median&#x27;)),\n",
       "                                                 (&#x27;scaler&#x27;, StandardScaler())]),\n",
       "                                 [&#x27;duration&#x27;, &#x27;days_left&#x27;]),\n",
       "                                (&#x27;cat_pipeline&#x27;,\n",
       "                                 Pipeline(steps=[(&#x27;imputer&#x27;,\n",
       "                                                  SimpleImputer(strategy=&#x27;most_frequent&#x27;)),\n",
       "                                                 (&#x27;one_hot_encoder&#x27;,\n",
       "                                                  OneHotEncoder()),\n",
       "                                                 (&#x27;scaler&#x27;,\n",
       "                                                  StandardScaler(with_mean=False))]),\n",
       "                                 [&#x27;airline&#x27;, &#x27;source_city&#x27;, &#x27;departure_time&#x27;,\n",
       "                                  &#x27;stops&#x27;, &#x27;arrival_time&#x27;, &#x27;destination_city&#x27;,\n",
       "                                  &#x27;class&#x27;])])</pre></div></div></div><div class=\"sk-parallel\"><div class=\"sk-parallel-item\"><div class=\"sk-item\"><div class=\"sk-label-container\"><div class=\"sk-label sk-toggleable\"><input class=\"sk-toggleable__control sk-hidden--visually\" id=\"sk-estimator-id-9\" type=\"checkbox\" ><label for=\"sk-estimator-id-9\" class=\"sk-toggleable__label sk-toggleable__label-arrow\">num_pipeline</label><div class=\"sk-toggleable__content\"><pre>[&#x27;duration&#x27;, &#x27;days_left&#x27;]</pre></div></div></div><div class=\"sk-serial\"><div class=\"sk-item\"><div class=\"sk-serial\"><div class=\"sk-item\"><div class=\"sk-estimator sk-toggleable\"><input class=\"sk-toggleable__control sk-hidden--visually\" id=\"sk-estimator-id-10\" type=\"checkbox\" ><label for=\"sk-estimator-id-10\" class=\"sk-toggleable__label sk-toggleable__label-arrow\">SimpleImputer</label><div class=\"sk-toggleable__content\"><pre>SimpleImputer(strategy=&#x27;median&#x27;)</pre></div></div></div><div class=\"sk-item\"><div class=\"sk-estimator sk-toggleable\"><input class=\"sk-toggleable__control sk-hidden--visually\" id=\"sk-estimator-id-11\" type=\"checkbox\" ><label for=\"sk-estimator-id-11\" class=\"sk-toggleable__label sk-toggleable__label-arrow\">StandardScaler</label><div class=\"sk-toggleable__content\"><pre>StandardScaler()</pre></div></div></div></div></div></div></div></div><div class=\"sk-parallel-item\"><div class=\"sk-item\"><div class=\"sk-label-container\"><div class=\"sk-label sk-toggleable\"><input class=\"sk-toggleable__control sk-hidden--visually\" id=\"sk-estimator-id-12\" type=\"checkbox\" ><label for=\"sk-estimator-id-12\" class=\"sk-toggleable__label sk-toggleable__label-arrow\">cat_pipeline</label><div class=\"sk-toggleable__content\"><pre>[&#x27;airline&#x27;, &#x27;source_city&#x27;, &#x27;departure_time&#x27;, &#x27;stops&#x27;, &#x27;arrival_time&#x27;, &#x27;destination_city&#x27;, &#x27;class&#x27;]</pre></div></div></div><div class=\"sk-serial\"><div class=\"sk-item\"><div class=\"sk-serial\"><div class=\"sk-item\"><div class=\"sk-estimator sk-toggleable\"><input class=\"sk-toggleable__control sk-hidden--visually\" id=\"sk-estimator-id-13\" type=\"checkbox\" ><label for=\"sk-estimator-id-13\" class=\"sk-toggleable__label sk-toggleable__label-arrow\">SimpleImputer</label><div class=\"sk-toggleable__content\"><pre>SimpleImputer(strategy=&#x27;most_frequent&#x27;)</pre></div></div></div><div class=\"sk-item\"><div class=\"sk-estimator sk-toggleable\"><input class=\"sk-toggleable__control sk-hidden--visually\" id=\"sk-estimator-id-14\" type=\"checkbox\" ><label for=\"sk-estimator-id-14\" class=\"sk-toggleable__label sk-toggleable__label-arrow\">OneHotEncoder</label><div class=\"sk-toggleable__content\"><pre>OneHotEncoder()</pre></div></div></div><div class=\"sk-item\"><div class=\"sk-estimator sk-toggleable\"><input class=\"sk-toggleable__control sk-hidden--visually\" id=\"sk-estimator-id-15\" type=\"checkbox\" ><label for=\"sk-estimator-id-15\" class=\"sk-toggleable__label sk-toggleable__label-arrow\">StandardScaler</label><div class=\"sk-toggleable__content\"><pre>StandardScaler(with_mean=False)</pre></div></div></div></div></div></div></div></div></div></div></div></div>"
      ],
      "text/plain": [
       "ColumnTransformer(sparse_threshold=0,\n",
       "                  transformers=[('num_pipeline',\n",
       "                                 Pipeline(steps=[('imputer',\n",
       "                                                  SimpleImputer(strategy='median')),\n",
       "                                                 ('scaler', StandardScaler())]),\n",
       "                                 ['duration', 'days_left']),\n",
       "                                ('cat_pipeline',\n",
       "                                 Pipeline(steps=[('imputer',\n",
       "                                                  SimpleImputer(strategy='most_frequent')),\n",
       "                                                 ('one_hot_encoder',\n",
       "                                                  OneHotEncoder()),\n",
       "                                                 ('scaler',\n",
       "                                                  StandardScaler(with_mean=False))]),\n",
       "                                 ['airline', 'source_city', 'departure_time',\n",
       "                                  'stops', 'arrival_time', 'destination_city',\n",
       "                                  'class'])])"
      ]
     },
     "execution_count": 23,
     "metadata": {},
     "output_type": "execute_result"
    }
   ],
   "source": [
    "preprocessor"
   ]
  },
  {
   "cell_type": "code",
   "execution_count": 25,
   "id": "ac2314bd",
   "metadata": {},
   "outputs": [],
   "source": [
    "train_df, test_df = train_test_split(df, test_size = 0.25, random_state=12)"
   ]
  },
  {
   "cell_type": "code",
   "execution_count": 26,
   "id": "995a3528",
   "metadata": {},
   "outputs": [
    {
     "name": "stdout",
     "output_type": "stream",
     "text": [
      "(7390, 10)\n",
      "(2464, 10)\n"
     ]
    }
   ],
   "source": [
    "print(train_df.shape)\n",
    "print(test_df.shape)"
   ]
  },
  {
   "cell_type": "code",
   "execution_count": 27,
   "id": "698eb735",
   "metadata": {},
   "outputs": [],
   "source": [
    "train_df_independent_features = train_df.drop([TARGET_COLUMN_NAME], axis = 1)\n",
    "train_df_target_feature = train_df[TARGET_COLUMN_NAME]"
   ]
  },
  {
   "cell_type": "code",
   "execution_count": 28,
   "id": "376749f1",
   "metadata": {},
   "outputs": [],
   "source": [
    "test_df_independent_features = test_df.drop([TARGET_COLUMN_NAME], axis = 1)\n",
    "test_df_target_feature = test_df[TARGET_COLUMN_NAME]"
   ]
  },
  {
   "cell_type": "code",
   "execution_count": 29,
   "id": "86102c88",
   "metadata": {},
   "outputs": [],
   "source": [
    "input_feature_train_arr = preprocessor.fit_transform(train_df_independent_features)"
   ]
  },
  {
   "cell_type": "code",
   "execution_count": 30,
   "id": "59f464e1",
   "metadata": {},
   "outputs": [
    {
     "data": {
      "text/plain": [
       "7390"
      ]
     },
     "execution_count": 30,
     "metadata": {},
     "output_type": "execute_result"
    }
   ],
   "source": [
    "len(input_feature_train_arr)"
   ]
  },
  {
   "cell_type": "code",
   "execution_count": 31,
   "id": "d450a2ef",
   "metadata": {},
   "outputs": [
    {
     "data": {
      "text/plain": [
       "numpy.ndarray"
      ]
     },
     "execution_count": 31,
     "metadata": {},
     "output_type": "execute_result"
    }
   ],
   "source": [
    "type(input_feature_train_arr)"
   ]
  },
  {
   "cell_type": "code",
   "execution_count": 32,
   "id": "a8f06a66",
   "metadata": {},
   "outputs": [],
   "source": [
    "input_feature_test_arr = preprocessor.transform(test_df_independent_features)"
   ]
  },
  {
   "cell_type": "code",
   "execution_count": 33,
   "id": "7997cc44",
   "metadata": {},
   "outputs": [
    {
     "data": {
      "text/plain": [
       "2464"
      ]
     },
     "execution_count": 33,
     "metadata": {},
     "output_type": "execute_result"
    }
   ],
   "source": [
    "len(input_feature_test_arr)"
   ]
  },
  {
   "cell_type": "code",
   "execution_count": 34,
   "id": "8aeaddc8",
   "metadata": {},
   "outputs": [
    {
     "data": {
      "text/plain": [
       "numpy.ndarray"
      ]
     },
     "execution_count": 34,
     "metadata": {},
     "output_type": "execute_result"
    }
   ],
   "source": [
    "type(input_feature_test_arr)"
   ]
  },
  {
   "cell_type": "code",
   "execution_count": 36,
   "id": "bcb588ad",
   "metadata": {},
   "outputs": [],
   "source": [
    "train_arr = np.c_[input_feature_train_arr, train_df_target_feature]\n",
    "test_arr = np.c_[input_feature_test_arr, test_df_target_feature]"
   ]
  },
  {
   "cell_type": "code",
   "execution_count": 37,
   "id": "e1ef6ae9",
   "metadata": {},
   "outputs": [],
   "source": [
    "X_train,X_test, y_train,  y_test = (\n",
    "                    train_arr[:,:-1],\n",
    "                    train_arr[:,-1],\n",
    "                    test_arr[:,:-1],\n",
    "                    test_arr[:,-1]\n",
    "                )"
   ]
  },
  {
   "cell_type": "code",
   "execution_count": 38,
   "id": "55cd0724",
   "metadata": {},
   "outputs": [
    {
     "name": "stdout",
     "output_type": "stream",
     "text": [
      "(7390, 27)\n",
      "(2464, 27)\n",
      "(7390,)\n",
      "(2464,)\n"
     ]
    }
   ],
   "source": [
    "print(X_train.shape)\n",
    "print(y_train.shape)\n",
    "print(X_test.shape)\n",
    "print(y_test.shape)"
   ]
  },
  {
   "cell_type": "code",
   "execution_count": 39,
   "id": "79e18cbe",
   "metadata": {},
   "outputs": [],
   "source": [
    "from catboost import CatBoostRegressor\n",
    "from sklearn.ensemble import (\n",
    "    AdaBoostRegressor,\n",
    "    GradientBoostingRegressor,\n",
    "    RandomForestRegressor\n",
    ")\n",
    "\n",
    "from sklearn.linear_model import LinearRegression\n",
    "from sklearn.neighbors import KNeighborsRegressor\n",
    "from sklearn.tree import DecisionTreeRegressor\n",
    "from xgboost import XGBRegressor\n",
    "from sklearn.svm import SVR\n",
    "\n",
    "from sklearn.metrics import (\n",
    "    mean_absolute_error, \n",
    "    mean_squared_error,\n",
    "    r2_score\n",
    ")"
   ]
  },
  {
   "cell_type": "code",
   "execution_count": 41,
   "id": "83b48666",
   "metadata": {},
   "outputs": [],
   "source": [
    "models = {\n",
    "                    \"Random Forest\" : RandomForestRegressor(),\n",
    "                    \"Decision Tree\" : DecisionTreeRegressor(),\n",
    "                    \"Gradient Boosting\" : GradientBoostingRegressor(),\n",
    "                    \"Linear Regression\" : LinearRegression(),\n",
    "                    \"XGBRegressor\" : XGBRegressor(),\n",
    "                    \"Catboost Regressor\" : CatBoostRegressor(verbose = False),\n",
    "                    \"Adaboost Regressor\" : AdaBoostRegressor(),\n",
    "                    \"Support Vector Regressor\" : SVR()\n",
    "                }"
   ]
  },
  {
   "cell_type": "code",
   "execution_count": 42,
   "id": "48e76540",
   "metadata": {},
   "outputs": [],
   "source": [
    "from sklearn.model_selection import GridSearchCV\n",
    "from sklearn.model_selection import RandomizedSearchCV"
   ]
  },
  {
   "cell_type": "code",
   "execution_count": 43,
   "id": "a5e9a157",
   "metadata": {},
   "outputs": [],
   "source": [
    "svr = SVR()"
   ]
  },
  {
   "cell_type": "code",
   "execution_count": 45,
   "id": "838913b0",
   "metadata": {},
   "outputs": [],
   "source": [
    "param_dist = {\n",
    "    \"kernel\": [\"linear\", \"poly\", \"rbf\", \"sigmoid\"],\n",
    "    \"degree\" : [2,3,4,5],\n",
    "    \"gamma\" : [\"scale\", \"auto\"],\n",
    "    \"C\" : [1,1.5,2,2.5,3,4],\n",
    "    \"epsilon\" : [0.1,0.2,0.3]\n",
    "}"
   ]
  },
  {
   "cell_type": "code",
   "execution_count": null,
   "id": "818b93da",
   "metadata": {},
   "outputs": [],
   "source": [
    "randomCV = RandomizedSearchCV(clf, param_distributions=param_dist, n_iter=samples,cv=3)"
   ]
  },
  {
   "cell_type": "code",
   "execution_count": 46,
   "id": "16a58ed2",
   "metadata": {},
   "outputs": [],
   "source": [
    "svr_hp = RandomizedSearchCV(svr, param_distributions = param_dist, n_iter=5,cv=3)"
   ]
  },
  {
   "cell_type": "code",
   "execution_count": 50,
   "id": "6c9e524a",
   "metadata": {},
   "outputs": [
    {
     "name": "stdout",
     "output_type": "stream",
     "text": [
      "{'kernel': 'sigmoid', 'gamma': 'auto', 'epsilon': 0.1, 'degree': 3, 'C': 4}\n"
     ]
    }
   ],
   "source": [
    "svr_hp_fit = svr_hp.fit(X_train, X_test)\n",
    "print(svr_hp_fit.best_params_)"
   ]
  },
  {
   "cell_type": "code",
   "execution_count": 52,
   "id": "421f269b",
   "metadata": {},
   "outputs": [],
   "source": [
    "svr_model_basic = svr.fit(X_train, X_test)\n",
    "svr_predictions_base = svr_model_basic.predict(y_train)"
   ]
  },
  {
   "cell_type": "code",
   "execution_count": 53,
   "id": "1ca6453e",
   "metadata": {},
   "outputs": [],
   "source": [
    "svr_tuned = SVR(kernel = 'sigmoid', gamma= 'auto', epsilon = 0.1, degree = 3, C = 4)\n",
    "svr_model_tuned = svr_tuned.fit(X_train, X_test)\n",
    "svr_predictions_tuned = svr_model_tuned.predict(y_train)"
   ]
  },
  {
   "cell_type": "code",
   "execution_count": 55,
   "id": "8885c777",
   "metadata": {},
   "outputs": [],
   "source": [
    "svr_base_mae = mean_absolute_error(y_test, svr_predictions_base)\n",
    "svr_base_mse = mean_squared_error(y_test, svr_predictions_base)\n",
    "svr_base_r2 = r2_score(y_test, svr_predictions_base)\n",
    "\n",
    "svr_tuned_mae = mean_absolute_error(y_test, svr_predictions_tuned)\n",
    "svr_tuned_mse = mean_squared_error(y_test, svr_predictions_tuned)\n",
    "svr_tuned_r2 = r2_score(y_test, svr_predictions_tuned)"
   ]
  },
  {
   "cell_type": "code",
   "execution_count": 58,
   "id": "55c882af",
   "metadata": {},
   "outputs": [
    {
     "name": "stdout",
     "output_type": "stream",
     "text": [
      "17901.10108582995\n",
      "416930156.06737894\n",
      "-0.009381091298470423\n",
      "***************************************************************************\n",
      "16231.785716460123\n",
      "370872448.45654607\n",
      "0.10212386581337562\n"
     ]
    }
   ],
   "source": [
    "print(svr_base_mae)\n",
    "print(svr_base_mse)\n",
    "print(svr_base_r2)\n",
    "\n",
    "print(\"*\"*75)\n",
    "\n",
    "print(svr_tuned_mae)\n",
    "print(svr_tuned_mse)\n",
    "print(svr_tuned_r2)"
   ]
  },
  {
   "cell_type": "code",
   "execution_count": 59,
   "id": "b91f39e8",
   "metadata": {},
   "outputs": [
    {
     "data": {
      "text/plain": [
       "array([ 5227., 37900.,  7838., ..., 14670.,  2410.,  3959.])"
      ]
     },
     "execution_count": 59,
     "metadata": {},
     "output_type": "execute_result"
    }
   ],
   "source": [
    "y_test"
   ]
  },
  {
   "cell_type": "code",
   "execution_count": 60,
   "id": "2766f6f2",
   "metadata": {},
   "outputs": [
    {
     "data": {
      "text/plain": [
       "array([19739.73171107, 23095.75221779, 19308.31918444, ...,\n",
       "       18081.36368043, 16699.26206254, 18224.0065457 ])"
      ]
     },
     "execution_count": 60,
     "metadata": {},
     "output_type": "execute_result"
    }
   ],
   "source": [
    "svr_predictions_tuned"
   ]
  },
  {
   "cell_type": "markdown",
   "id": "611245a6",
   "metadata": {},
   "source": [
    "# XGB"
   ]
  },
  {
   "cell_type": "code",
   "execution_count": 65,
   "id": "7c863152",
   "metadata": {},
   "outputs": [],
   "source": [
    "params={\n",
    " \"learning_rate\"    : [0.05, 0.10, 0.15, 0.20, 0.25, 0.30 ] ,\n",
    " \"max_depth\"        : [ 3, 4, 5, 6, 8, 10, 12, 15],\n",
    " \"min_child_weight\" : [ 1, 3, 5, 7 ],\n",
    " \"gamma\"            : [ 0.0, 0.1, 0.2 , 0.3, 0.4 ],\n",
    " \"colsample_bytree\" : [ 0.3, 0.4, 0.5 , 0.7 ]\n",
    "    \n",
    "}"
   ]
  },
  {
   "cell_type": "code",
   "execution_count": 66,
   "id": "e3ba2270",
   "metadata": {},
   "outputs": [],
   "source": [
    "xg = XGBRegressor()"
   ]
  },
  {
   "cell_type": "code",
   "execution_count": 67,
   "id": "1ef6634e",
   "metadata": {},
   "outputs": [],
   "source": [
    "xg_hp = RandomizedSearchCV(xg, param_distributions = params, n_iter=5,cv=3)"
   ]
  },
  {
   "cell_type": "code",
   "execution_count": 68,
   "id": "9084c7e9",
   "metadata": {},
   "outputs": [
    {
     "name": "stdout",
     "output_type": "stream",
     "text": [
      "{'min_child_weight': 1, 'max_depth': 12, 'learning_rate': 0.2, 'gamma': 0.0, 'colsample_bytree': 0.5}\n"
     ]
    }
   ],
   "source": [
    "xg_hp_fit = xg_hp.fit(X_train, X_test)\n",
    "print(xg_hp_fit.best_params_)"
   ]
  },
  {
   "cell_type": "code",
   "execution_count": 69,
   "id": "c8cd1b89",
   "metadata": {},
   "outputs": [],
   "source": [
    "xg_model_basic = xg.fit(X_train, X_test)\n",
    "xg_predictions_base = xg_model_basic.predict(y_train)"
   ]
  },
  {
   "cell_type": "code",
   "execution_count": 71,
   "id": "15cccc1d",
   "metadata": {},
   "outputs": [],
   "source": [
    "xg_tuned = XGBRegressor(min_child_weight = 1, max_depth= 12, learning_rate = 0.2, gamma = 0.0, colsample_bytree = 0.5)\n",
    "xg_model_tuned = xg_tuned.fit(X_train, X_test)\n",
    "xg_predictions_tuned = xg_model_tuned.predict(y_train)"
   ]
  },
  {
   "cell_type": "code",
   "execution_count": 72,
   "id": "20754a3e",
   "metadata": {},
   "outputs": [],
   "source": [
    "xg_base_mae = mean_absolute_error(y_test, xg_predictions_base)\n",
    "xg_base_mse = mean_squared_error(y_test, xg_predictions_base)\n",
    "xg_base_r2 = r2_score(y_test, xg_predictions_base)\n",
    "\n",
    "xg_tuned_mae = mean_absolute_error(y_test, xg_predictions_tuned)\n",
    "xg_tuned_mse = mean_squared_error(y_test, xg_predictions_tuned)\n",
    "xg_tuned_r2 = r2_score(y_test, xg_predictions_tuned)"
   ]
  },
  {
   "cell_type": "code",
   "execution_count": 73,
   "id": "5b62b185",
   "metadata": {},
   "outputs": [
    {
     "name": "stdout",
     "output_type": "stream",
     "text": [
      "1672.158820181698\n",
      "10272339.605075836\n",
      "0.9751308337622758\n",
      "***************************************************************************\n",
      "1763.335069780226\n",
      "11405685.17097644\n",
      "0.9723870226767035\n"
     ]
    }
   ],
   "source": [
    "print(xg_base_mae)\n",
    "print(xg_base_mse)\n",
    "print(xg_base_r2)\n",
    "\n",
    "print(\"*\"*75)\n",
    "\n",
    "print(xg_tuned_mae)\n",
    "print(xg_tuned_mse)\n",
    "print(xg_tuned_r2)"
   ]
  },
  {
   "cell_type": "code",
   "execution_count": 74,
   "id": "cd1e26ab",
   "metadata": {},
   "outputs": [
    {
     "data": {
      "text/plain": [
       "array([ 5227., 37900.,  7838., ..., 14670.,  2410.,  3959.])"
      ]
     },
     "execution_count": 74,
     "metadata": {},
     "output_type": "execute_result"
    }
   ],
   "source": [
    "y_test"
   ]
  },
  {
   "cell_type": "code",
   "execution_count": 75,
   "id": "15c51d0b",
   "metadata": {},
   "outputs": [
    {
     "data": {
      "text/plain": [
       "array([ 6743.5996, 38567.04  ,  8425.729 , ...,  9241.555 ,  2617.2944,\n",
       "        3075.1428], dtype=float32)"
      ]
     },
     "execution_count": 75,
     "metadata": {},
     "output_type": "execute_result"
    }
   ],
   "source": [
    "xg_predictions_tuned"
   ]
  },
  {
   "cell_type": "code",
   "execution_count": 76,
   "id": "dc9d1e69",
   "metadata": {},
   "outputs": [
    {
     "data": {
      "text/plain": [
       "array([ 4693.83  , 47258.062 ,  7751.873 , ..., 10442.13  ,  2458.941 ,\n",
       "        3488.8477], dtype=float32)"
      ]
     },
     "execution_count": 76,
     "metadata": {},
     "output_type": "execute_result"
    }
   ],
   "source": [
    "xg_predictions_base"
   ]
  },
  {
   "cell_type": "markdown",
   "id": "e6eb8542",
   "metadata": {},
   "source": [
    "# AdaBoostRegressor"
   ]
  },
  {
   "cell_type": "code",
   "execution_count": 77,
   "id": "0e2f2702",
   "metadata": {},
   "outputs": [],
   "source": [
    "ABR = AdaBoostRegressor()"
   ]
  },
  {
   "cell_type": "code",
   "execution_count": 89,
   "id": "fa2e4706",
   "metadata": {},
   "outputs": [],
   "source": [
    "params_ABR ={\n",
    " \"n_estimators\"    : [50,100,150,200,300,400,500 ] ,\n",
    " \"learning_rate\"        : [ 1, 1.5, 2, 3],\n",
    " \"loss\" : [\"linear\", \"square\", \"exponential\" ]\n",
    "}"
   ]
  },
  {
   "cell_type": "code",
   "execution_count": 90,
   "id": "154e4f26",
   "metadata": {},
   "outputs": [],
   "source": [
    "ABR_hp = RandomizedSearchCV(ABR, param_distributions = params_ABR, n_iter=5,cv=3)"
   ]
  },
  {
   "cell_type": "code",
   "execution_count": 91,
   "id": "5ebf2061",
   "metadata": {},
   "outputs": [
    {
     "name": "stdout",
     "output_type": "stream",
     "text": [
      "{'n_estimators': 50, 'loss': 'linear', 'learning_rate': 1}\n"
     ]
    }
   ],
   "source": [
    "ABR_hp_fit = ABR_hp.fit(X_train, X_test)\n",
    "print(ABR_hp_fit.best_params_)"
   ]
  },
  {
   "cell_type": "code",
   "execution_count": 92,
   "id": "02ee9017",
   "metadata": {},
   "outputs": [],
   "source": [
    "ABR_model_basic = ABR.fit(X_train, X_test)\n",
    "ABR_predictions_base = ABR_model_basic.predict(y_train)"
   ]
  },
  {
   "cell_type": "code",
   "execution_count": 93,
   "id": "4b1336cd",
   "metadata": {},
   "outputs": [],
   "source": [
    "ABR_tuned = AdaBoostRegressor(n_estimators = 50, loss= 'linear', learning_rate = 1)\n",
    "ABR_model_tuned = ABR_tuned.fit(X_train, X_test)\n",
    "ABR_predictions_tuned = ABR_model_tuned.predict(y_train)"
   ]
  },
  {
   "cell_type": "code",
   "execution_count": 94,
   "id": "c0425026",
   "metadata": {},
   "outputs": [],
   "source": [
    "ABR_base_mae = mean_absolute_error(y_test, ABR_predictions_base)\n",
    "ABR_base_mse = mean_squared_error(y_test, ABR_predictions_base)\n",
    "ABR_base_r2 = r2_score(y_test, ABR_predictions_base)\n",
    "\n",
    "ABR_tuned_mae = mean_absolute_error(y_test, ABR_predictions_tuned)\n",
    "ABR_tuned_mse = mean_squared_error(y_test, ABR_predictions_tuned)\n",
    "ABR_tuned_r2 = r2_score(y_test, ABR_predictions_tuned)"
   ]
  },
  {
   "cell_type": "code",
   "execution_count": 95,
   "id": "90d589a9",
   "metadata": {},
   "outputs": [
    {
     "name": "stdout",
     "output_type": "stream",
     "text": [
      "4437.791230115997\n",
      "39001000.479455344\n",
      "0.9055792154805832\n",
      "***************************************************************************\n",
      "4541.2438031159345\n",
      "39302536.47704471\n",
      "0.9048492017603396\n"
     ]
    }
   ],
   "source": [
    "print(ABR_base_mae)\n",
    "print(ABR_base_mse)\n",
    "print(ABR_base_r2)\n",
    "\n",
    "print(\"*\"*75)\n",
    "\n",
    "print(ABR_tuned_mae)\n",
    "print(ABR_tuned_mse)\n",
    "print(ABR_tuned_r2)"
   ]
  },
  {
   "cell_type": "code",
   "execution_count": 96,
   "id": "d1ee0dfc",
   "metadata": {},
   "outputs": [
    {
     "data": {
      "text/plain": [
       "array([ 5227., 37900.,  7838., ..., 14670.,  2410.,  3959.])"
      ]
     },
     "execution_count": 96,
     "metadata": {},
     "output_type": "execute_result"
    }
   ],
   "source": [
    "y_test"
   ]
  },
  {
   "cell_type": "code",
   "execution_count": 100,
   "id": "c7d694bd",
   "metadata": {},
   "outputs": [
    {
     "data": {
      "text/plain": [
       "array([ 5820.26258005, 44663.61455526,  5820.26258005, ...,\n",
       "        7241.2008547 ,  7241.2008547 ,  5626.95940671])"
      ]
     },
     "execution_count": 100,
     "metadata": {},
     "output_type": "execute_result"
    }
   ],
   "source": [
    "ABR_predictions_base"
   ]
  },
  {
   "cell_type": "code",
   "execution_count": 99,
   "id": "da621396",
   "metadata": {},
   "outputs": [
    {
     "data": {
      "text/plain": [
       "array([ 6272.05394191, 44140.79404968,  6794.28802589, ...,\n",
       "        7296.96521739,  6578.98765432,  6272.05394191])"
      ]
     },
     "execution_count": 99,
     "metadata": {},
     "output_type": "execute_result"
    }
   ],
   "source": [
    "ABR_predictions_tuned"
   ]
  },
  {
   "cell_type": "markdown",
   "id": "821176ea",
   "metadata": {},
   "source": [
    "# Cat Boost Regressor"
   ]
  },
  {
   "cell_type": "code",
   "execution_count": 44,
   "id": "7b603b17",
   "metadata": {},
   "outputs": [],
   "source": [
    "cbr = CatBoostRegressor(verbose = False, loss_function = 'RMSE')"
   ]
  },
  {
   "cell_type": "code",
   "execution_count": 46,
   "id": "8090877d",
   "metadata": {},
   "outputs": [],
   "source": [
    "cbr_model_basic = cbr.fit(X_train, X_test)\n",
    "cbr_predictions_base = cbr_model_basic.predict(y_train)"
   ]
  },
  {
   "cell_type": "code",
   "execution_count": 45,
   "id": "50117786",
   "metadata": {},
   "outputs": [],
   "source": [
    "grid = {'iterations': [100, 150, 200],\n",
    "        'learning_rate': [0.03, 0.1],\n",
    "        'depth': [2, 4, 6, 8],\n",
    "        'l2_leaf_reg': [0.2, 0.5, 1, 3]}\n",
    "#cbr.grid_search(grid, train_dataset)"
   ]
  },
  {
   "cell_type": "code",
   "execution_count": 47,
   "id": "c72855b7",
   "metadata": {},
   "outputs": [],
   "source": [
    "cbr_hp = RandomizedSearchCV(cbr, param_distributions = grid, n_iter=5,cv=3)"
   ]
  },
  {
   "cell_type": "code",
   "execution_count": 48,
   "id": "e0d10c00",
   "metadata": {},
   "outputs": [
    {
     "name": "stdout",
     "output_type": "stream",
     "text": [
      "{'learning_rate': 0.03, 'l2_leaf_reg': 0.2, 'iterations': 200, 'depth': 4}\n"
     ]
    }
   ],
   "source": [
    "cbr_hp_fit = cbr_hp.fit(X_train, X_test)\n",
    "print(cbr_hp_fit.best_params_)"
   ]
  },
  {
   "cell_type": "code",
   "execution_count": 49,
   "id": "ce2a7a02",
   "metadata": {},
   "outputs": [],
   "source": [
    "cbr_tuned = CatBoostRegressor(verbose = False, learning_rate = 0.03, l2_leaf_reg = 0.2, iterations= 200, depth = 4)\n",
    "cbr_model_tuned = cbr_tuned.fit(X_train, X_test)\n",
    "cbr_predictions_tuned = cbr_model_tuned.predict(y_train)"
   ]
  },
  {
   "cell_type": "code",
   "execution_count": 50,
   "id": "ccfb9abe",
   "metadata": {},
   "outputs": [],
   "source": [
    "cbr_base_mae = mean_absolute_error(y_test, cbr_predictions_base)\n",
    "cbr_base_mse = mean_squared_error(y_test, cbr_predictions_base)\n",
    "cbr_base_r2 = r2_score(y_test, cbr_predictions_base)\n",
    "\n",
    "cbr_tuned_mae = mean_absolute_error(y_test, cbr_predictions_tuned)\n",
    "cbr_tuned_mse = mean_squared_error(y_test, cbr_predictions_tuned)\n",
    "cbr_tuned_r2 = r2_score(y_test, cbr_predictions_tuned)"
   ]
  },
  {
   "cell_type": "code",
   "execution_count": 51,
   "id": "0fe62eb8",
   "metadata": {},
   "outputs": [
    {
     "name": "stdout",
     "output_type": "stream",
     "text": [
      "1752.4135920836866\n",
      "9653565.958629964\n",
      "0.976628874643769\n",
      "***************************************************************************\n",
      "3543.7183289749323\n",
      "28035586.113343667\n",
      "0.9321263043834473\n"
     ]
    }
   ],
   "source": [
    "print(cbr_base_mae)\n",
    "print(cbr_base_mse)\n",
    "print(cbr_base_r2)\n",
    "\n",
    "print(\"*\"*75)\n",
    "\n",
    "print(cbr_tuned_mae)\n",
    "print(cbr_tuned_mse)\n",
    "print(cbr_tuned_r2)"
   ]
  },
  {
   "cell_type": "markdown",
   "id": "c05fd8de",
   "metadata": {},
   "source": [
    "# RandomForestRegressor"
   ]
  },
  {
   "cell_type": "code",
   "execution_count": 53,
   "id": "ecac82b3",
   "metadata": {},
   "outputs": [],
   "source": [
    "rfr = RandomForestRegressor(random_state = 40)"
   ]
  },
  {
   "cell_type": "code",
   "execution_count": 54,
   "id": "6162848e",
   "metadata": {},
   "outputs": [],
   "source": [
    "from pprint import pprint"
   ]
  },
  {
   "cell_type": "code",
   "execution_count": 56,
   "id": "9be57e6c",
   "metadata": {},
   "outputs": [
    {
     "name": "stdout",
     "output_type": "stream",
     "text": [
      "{'bootstrap': True,\n",
      " 'ccp_alpha': 0.0,\n",
      " 'criterion': 'squared_error',\n",
      " 'max_depth': None,\n",
      " 'max_features': 1.0,\n",
      " 'max_leaf_nodes': None,\n",
      " 'max_samples': None,\n",
      " 'min_impurity_decrease': 0.0,\n",
      " 'min_samples_leaf': 1,\n",
      " 'min_samples_split': 2,\n",
      " 'min_weight_fraction_leaf': 0.0,\n",
      " 'n_estimators': 100,\n",
      " 'n_jobs': None,\n",
      " 'oob_score': False,\n",
      " 'random_state': 40,\n",
      " 'verbose': 0,\n",
      " 'warm_start': False}\n"
     ]
    }
   ],
   "source": [
    "pprint(rfr.get_params())"
   ]
  },
  {
   "cell_type": "code",
   "execution_count": 62,
   "id": "e10d36d0",
   "metadata": {},
   "outputs": [],
   "source": [
    "# Number of trees in random forest\n",
    "n_estimators = [int(x) for x in np.linspace(start = 200, stop = 2000, num = 10)]\n",
    "# Number of features to consider at every split\n",
    "max_features = ['auto', 'sqrt']\n",
    "# Maximum number of levels in tree\n",
    "max_depth = [int(x) for x in np.linspace(10, 110, num = 11)]\n",
    "#max_depth.append(None)\n",
    "# Minimum number of samples required to split a node\n",
    "min_samples_split = [2, 5, 10]\n",
    "# Minimum number of samples required at each leaf node\n",
    "min_samples_leaf = [1, 2, 4]\n",
    "# Method of selecting samples for training each tree\n",
    "bootstrap = [True, False]\n",
    "# Create the random grid\n",
    "random_grid = {'n_estimators': n_estimators,\n",
    "               'max_features': max_features,\n",
    "               'max_depth': max_depth,\n",
    "               'min_samples_split': min_samples_split,\n",
    "               'min_samples_leaf': min_samples_leaf,\n",
    "               'bootstrap': bootstrap}"
   ]
  },
  {
   "cell_type": "code",
   "execution_count": 64,
   "id": "d20a62e6",
   "metadata": {},
   "outputs": [
    {
     "name": "stdout",
     "output_type": "stream",
     "text": [
      "Fitting 3 folds for each of 100 candidates, totalling 300 fits\n"
     ]
    },
    {
     "name": "stderr",
     "output_type": "stream",
     "text": [
      "D:\\Anaconda_Install\\envs\\airline_analysis\\lib\\site-packages\\sklearn\\ensemble\\_forest.py:413: FutureWarning: `max_features='auto'` has been deprecated in 1.1 and will be removed in 1.3. To keep the past behaviour, explicitly set `max_features=1.0` or remove this parameter as it is also the default value for RandomForestRegressors and ExtraTreesRegressors.\n",
      "  warn(\n"
     ]
    }
   ],
   "source": [
    "rf_random = RandomizedSearchCV(estimator = rfr, param_distributions = random_grid, \n",
    "                               n_iter = 100, cv = 3, verbose=2, random_state=42, n_jobs = -1)\n",
    "# Fit the random search model\n",
    "rfr_hp_fit = rf_random.fit(X_train, X_test)"
   ]
  },
  {
   "cell_type": "code",
   "execution_count": 66,
   "id": "3edc5be7",
   "metadata": {},
   "outputs": [
    {
     "name": "stdout",
     "output_type": "stream",
     "text": [
      "{'n_estimators': 1800, 'min_samples_split': 10, 'min_samples_leaf': 1, 'max_features': 'auto', 'max_depth': 40, 'bootstrap': True}\n"
     ]
    }
   ],
   "source": [
    "print(rfr_hp_fit.best_params_)"
   ]
  },
  {
   "cell_type": "code",
   "execution_count": 68,
   "id": "7ac234c0",
   "metadata": {},
   "outputs": [
    {
     "name": "stderr",
     "output_type": "stream",
     "text": [
      "D:\\Anaconda_Install\\envs\\airline_analysis\\lib\\site-packages\\sklearn\\ensemble\\_forest.py:413: FutureWarning: `max_features='auto'` has been deprecated in 1.1 and will be removed in 1.3. To keep the past behaviour, explicitly set `max_features=1.0` or remove this parameter as it is also the default value for RandomForestRegressors and ExtraTreesRegressors.\n",
      "  warn(\n"
     ]
    }
   ],
   "source": [
    "rfr_tuned = RandomForestRegressor(random_state = 40, n_estimators= 1800, min_samples_split= 10, \n",
    "                                  min_samples_leaf= 1, max_features= 'auto', max_depth= 40, bootstrap= True)\n",
    "rfr_model_tuned = rfr_tuned.fit(X_train, X_test)\n",
    "rfr_predictions_tuned = rfr_model_tuned.predict(y_train)"
   ]
  },
  {
   "cell_type": "code",
   "execution_count": 65,
   "id": "e323a8d1",
   "metadata": {},
   "outputs": [],
   "source": [
    "rfr_model_basic = rfr.fit(X_train, X_test)\n",
    "rfr_predictions_base = rfr_model_basic.predict(y_train)"
   ]
  },
  {
   "cell_type": "code",
   "execution_count": 69,
   "id": "f96691e4",
   "metadata": {},
   "outputs": [],
   "source": [
    "rfr_base_mae = mean_absolute_error(y_test, rfr_predictions_base)\n",
    "rfr_base_mse = mean_squared_error(y_test, rfr_predictions_base)\n",
    "rfr_base_r2 = r2_score(y_test, rfr_predictions_base)\n",
    "\n",
    "rfr_tuned_mae = mean_absolute_error(y_test, rfr_predictions_tuned)\n",
    "rfr_tuned_mse = mean_squared_error(y_test, rfr_predictions_tuned)\n",
    "rfr_tuned_r2 = r2_score(y_test, rfr_predictions_tuned)"
   ]
  },
  {
   "cell_type": "code",
   "execution_count": 70,
   "id": "2717be12",
   "metadata": {},
   "outputs": [
    {
     "name": "stdout",
     "output_type": "stream",
     "text": [
      "1508.0897803368507\n",
      "11505544.622938115\n",
      "0.9721452645761424\n",
      "***************************************************************************\n",
      "1537.782885948546\n",
      "10823634.428093107\n",
      "0.9737961580090677\n"
     ]
    }
   ],
   "source": [
    "print(rfr_base_mae)\n",
    "print(rfr_base_mse)\n",
    "print(rfr_base_r2)\n",
    "\n",
    "print(\"*\"*75)\n",
    "\n",
    "print(rfr_tuned_mae)\n",
    "print(rfr_tuned_mse)\n",
    "print(rfr_tuned_r2)"
   ]
  },
  {
   "cell_type": "markdown",
   "id": "bdc05b87",
   "metadata": {},
   "source": [
    "# GradientBoostingRegressor"
   ]
  },
  {
   "cell_type": "code",
   "execution_count": 72,
   "id": "c7e83a90",
   "metadata": {},
   "outputs": [],
   "source": [
    "gbr = GradientBoostingRegressor(loss = 'absolute_error')"
   ]
  },
  {
   "cell_type": "code",
   "execution_count": 73,
   "id": "cbe36a48",
   "metadata": {},
   "outputs": [],
   "source": [
    "gbr_model_basic = gbr.fit(X_train, X_test)\n",
    "gbr_predictions_base = gbr_model_basic.predict(y_train)"
   ]
  },
  {
   "cell_type": "code",
   "execution_count": 74,
   "id": "caa89f8b",
   "metadata": {},
   "outputs": [],
   "source": [
    "gbr_base_mae = mean_absolute_error(y_test, gbr_predictions_base)\n",
    "gbr_base_mse = mean_squared_error(y_test, gbr_predictions_base)\n",
    "gbr_base_r2 = r2_score(y_test, gbr_predictions_base)"
   ]
  },
  {
   "cell_type": "code",
   "execution_count": 75,
   "id": "20a17d15",
   "metadata": {},
   "outputs": [
    {
     "name": "stdout",
     "output_type": "stream",
     "text": [
      "3243.8500834663455\n",
      "32321576.096129876\n",
      "0.9217499927083094\n"
     ]
    }
   ],
   "source": [
    "print(gbr_base_mae)\n",
    "print(gbr_base_mse)\n",
    "print(gbr_base_r2)"
   ]
  },
  {
   "cell_type": "code",
   "execution_count": null,
   "id": "3972172f",
   "metadata": {},
   "outputs": [],
   "source": []
  }
 ],
 "metadata": {
  "kernelspec": {
   "display_name": "Python 3 (ipykernel)",
   "language": "python",
   "name": "python3"
  },
  "language_info": {
   "codemirror_mode": {
    "name": "ipython",
    "version": 3
   },
   "file_extension": ".py",
   "mimetype": "text/x-python",
   "name": "python",
   "nbconvert_exporter": "python",
   "pygments_lexer": "ipython3",
   "version": "3.8.0"
  }
 },
 "nbformat": 4,
 "nbformat_minor": 5
}
